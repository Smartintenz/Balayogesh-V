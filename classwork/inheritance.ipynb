{
 "cells": [
  {
   "cell_type": "code",
   "execution_count": 8,
   "id": "025e26b1-0b18-4859-8a59-85ec7a8486f1",
   "metadata": {},
   "outputs": [
    {
     "name": "stdout",
     "output_type": "stream",
     "text": [
      "Arts and science college\n"
     ]
    }
   ],
   "source": [
    "class students:\n",
    "    def show(self):\n",
    "        print(\"Arts and science college\")\n",
    "\n",
    "class college(students):\n",
    "     def hlo(self):\n",
    "         print(\"MGR university\")\n",
    "\n",
    "class dept(college):\n",
    "     def rect(self):\n",
    "        print(\"BCA\")\n",
    "\n",
    "class sec(dept):\n",
    "    def fun(self):\n",
    "       print(\"A\")\n",
    "\n",
    "obj=sec()\n",
    "obj.show()\n",
    "\n",
    "    \n",
    "    "
   ]
  },
  {
   "cell_type": "code",
   "execution_count": null,
   "id": "0d535862-808f-4f6d-90ef-ee3dca8e35d0",
   "metadata": {},
   "outputs": [],
   "source": [
    "#inheritance homework\n"
   ]
  }
 ],
 "metadata": {
  "kernelspec": {
   "display_name": "Python [conda env:base] *",
   "language": "python",
   "name": "conda-base-py"
  },
  "language_info": {
   "codemirror_mode": {
    "name": "ipython",
    "version": 3
   },
   "file_extension": ".py",
   "mimetype": "text/x-python",
   "name": "python",
   "nbconvert_exporter": "python",
   "pygments_lexer": "ipython3",
   "version": "3.13.5"
  }
 },
 "nbformat": 4,
 "nbformat_minor": 5
}
