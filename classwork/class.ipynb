{
 "cells": [
  {
   "cell_type": "code",
   "execution_count": 4,
   "id": "757142fb-3171-41e1-abda-83a7de259eed",
   "metadata": {},
   "outputs": [
    {
     "name": "stdout",
     "output_type": "stream",
     "text": [
      "94\n"
     ]
    }
   ],
   "source": [
    "class myobject:\n",
    "    x=5\n",
    "    y=89\n",
    "    z=x+y\n",
    "obj=myobject()\n",
    "print(obj.z)"
   ]
  },
  {
   "cell_type": "code",
   "execution_count": 17,
   "id": "e0a26e19-552a-4fca-8881-6d8727c2bed5",
   "metadata": {},
   "outputs": [
    {
     "name": "stdout",
     "output_type": "stream",
     "text": [
      "80\n",
      "36\n"
     ]
    }
   ],
   "source": [
    "class myobj:\n",
    "    def add(self):\n",
    "        a=24\n",
    "        b=56\n",
    "        print(a+b)\n",
    "    def sub(self):\n",
    "        a=56\n",
    "        b=20\n",
    "        print(a-b)\n",
    "\n",
    "obj2=myobj()\n",
    "obj2.add()\n",
    "obj2.sub()"
   ]
  },
  {
   "cell_type": "markdown",
   "id": "7cc7b4f5-3354-4837-a58f-b69c9eae2978",
   "metadata": {},
   "source": [
    "# init functions"
   ]
  },
  {
   "cell_type": "code",
   "execution_count": null,
   "id": "9b2ff4e0-f569-4860-805c-7ea6884b3e8d",
   "metadata": {},
   "outputs": [],
   "source": []
  }
 ],
 "metadata": {
  "kernelspec": {
   "display_name": "Python [conda env:base] *",
   "language": "python",
   "name": "conda-base-py"
  },
  "language_info": {
   "codemirror_mode": {
    "name": "ipython",
    "version": 3
   },
   "file_extension": ".py",
   "mimetype": "text/x-python",
   "name": "python",
   "nbconvert_exporter": "python",
   "pygments_lexer": "ipython3",
   "version": "3.13.5"
  }
 },
 "nbformat": 4,
 "nbformat_minor": 5
}
