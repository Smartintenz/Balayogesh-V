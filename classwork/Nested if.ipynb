{
 "cells": [
  {
   "cell_type": "code",
   "execution_count": null,
   "id": "3ab1a855-9991-4bb3-85ab-2f340282f07f",
   "metadata": {},
   "outputs": [],
   "source": [
    "#nested if loop\n",
    "skill= input(\"Enter your skill\")\n",
    "exp= int(input(\"Enter your experience\"))\n",
    "if skill==\"python\":\n",
    "   if exp==2:\n",
    "      print(\"CTS\")\n",
    "   elif exp==1:\n",
    "    print(\"TCS\")\n",
    "elif skill==\"java\":\n",
    "     if exp==2:\n",
    "       print(\"Wipro\")\n",
    "     elif exp==1:\n",
    "       print(\"Amazon\")\n",
    "       \n",
    "    \n",
    "    "
   ]
  },
  {
   "cell_type": "code",
   "execution_count": null,
   "id": "dd784fe9-d992-4138-89c8-d970667aa87f",
   "metadata": {},
   "outputs": [],
   "source": []
  },
  {
   "cell_type": "code",
   "execution_count": null,
   "id": "3363100e-b6c6-462e-8c46-af52038d1dcc",
   "metadata": {},
   "outputs": [],
   "source": []
  }
 ],
 "metadata": {
  "kernelspec": {
   "display_name": "Python 3 (ipykernel)",
   "language": "python",
   "name": "python3"
  },
  "language_info": {
   "codemirror_mode": {
    "name": "ipython",
    "version": 3
   },
   "file_extension": ".py",
   "mimetype": "text/x-python",
   "name": "python",
   "nbconvert_exporter": "python",
   "pygments_lexer": "ipython3",
   "version": "3.12.7"
  }
 },
 "nbformat": 4,
 "nbformat_minor": 5
}
