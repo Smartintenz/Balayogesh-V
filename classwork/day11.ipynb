{
 "cells": [
  {
   "cell_type": "code",
   "execution_count": 8,
   "id": "b28106e3-d077-46b9-b67f-6119ac596131",
   "metadata": {},
   "outputs": [
    {
     "ename": "NameError",
     "evalue": "name 'count' is not defined",
     "output_type": "error",
     "traceback": [
      "\u001b[1;31m---------------------------------------------------------------------------\u001b[0m",
      "\u001b[1;31mNameError\u001b[0m                                 Traceback (most recent call last)",
      "Cell \u001b[1;32mIn[8], line 2\u001b[0m\n\u001b[0;32m      1\u001b[0m k\u001b[38;5;241m=\u001b[39m\u001b[38;5;124m\"\u001b[39m\u001b[38;5;124mhello world\u001b[39m\u001b[38;5;124m\"\u001b[39m\n\u001b[1;32m----> 2\u001b[0m \u001b[38;5;28mprint\u001b[39m(k(count))\n",
      "\u001b[1;31mNameError\u001b[0m: name 'count' is not defined"
     ]
    }
   ],
   "source": [
    "k=\"hello world\"\n",
    "print(k(count))"
   ]
  },
  {
   "cell_type": "code",
   "execution_count": 2,
   "id": "bf6b2546-a1e3-4eeb-b690-64f630f41032",
   "metadata": {},
   "outputs": [
    {
     "name": "stdout",
     "output_type": "stream",
     "text": [
      "False\n"
     ]
    }
   ],
   "source": [
    "a=15\n",
    "print(a>15 and a<10)\n"
   ]
  },
  {
   "cell_type": "code",
   "execution_count": 3,
   "id": "f5470972-bb62-4217-bb41-a7ab5bdc9084",
   "metadata": {},
   "outputs": [
    {
     "name": "stdout",
     "output_type": "stream",
     "text": [
      "True\n",
      "False\n",
      "True\n"
     ]
    }
   ],
   "source": [
    "#identity operators \n",
    "x=[\"apple\"]\n",
    "y=[\"apple\"]\n",
    "z=x\n",
    "print(x is z)\n",
    "print(x is y)\n",
    "print(x==y)"
   ]
  },
  {
   "cell_type": "code",
   "execution_count": 10,
   "id": "3415baff-d5a2-452b-a05b-2c7b55a97656",
   "metadata": {},
   "outputs": [
    {
     "name": "stdout",
     "output_type": "stream",
     "text": [
      "True\n",
      "False\n",
      "True\n"
     ]
    }
   ],
   "source": [
    "x=16\n",
    "y=16\n",
    "z=5\n",
    "print(x is y)\n",
    "print(x is z)\n",
    "print(z is not y)"
   ]
  },
  {
   "cell_type": "code",
   "execution_count": 12,
   "id": "c2c80549-cf93-4f07-8cdf-b9e49b32af43",
   "metadata": {},
   "outputs": [
    {
     "name": "stdout",
     "output_type": "stream",
     "text": [
      "False\n",
      "True\n"
     ]
    }
   ],
   "source": [
    "#memorship operators \n",
    "#in\n",
    "#not in\n",
    "a=\"apple\"\n",
    "print(\"s\" in a)\n",
    "print(\"s\" not  in a )"
   ]
  },
  {
   "cell_type": "code",
   "execution_count": 9,
   "id": "f701fc11-96c6-4b50-a507-e58cb7061823",
   "metadata": {},
   "outputs": [
    {
     "name": "stdout",
     "output_type": "stream",
     "text": [
      "10\n"
     ]
    }
   ],
   "source": [
    "a=10\n",
    "b=5\n",
    "if a>b:\n",
    "    print(a)\n",
    "else : \n",
    "    print(b)\n",
    "    "
   ]
  },
  {
   "cell_type": "code",
   "execution_count": null,
   "id": "6431060b-88e3-4c32-8767-36bda81dee11",
   "metadata": {},
   "outputs": [],
   "source": []
  }
 ],
 "metadata": {
  "kernelspec": {
   "display_name": "Python 3 (ipykernel)",
   "language": "python",
   "name": "python3"
  },
  "language_info": {
   "codemirror_mode": {
    "name": "ipython",
    "version": 3
   },
   "file_extension": ".py",
   "mimetype": "text/x-python",
   "name": "python",
   "nbconvert_exporter": "python",
   "pygments_lexer": "ipython3",
   "version": "3.12.7"
  }
 },
 "nbformat": 4,
 "nbformat_minor": 5
}
