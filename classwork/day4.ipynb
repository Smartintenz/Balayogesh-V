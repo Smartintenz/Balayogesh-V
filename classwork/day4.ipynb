{
 "cells": [
  {
   "cell_type": "code",
   "execution_count": 2,
   "id": "6109723d-3c24-4a86-8a55-75c26fe226a4",
   "metadata": {},
   "outputs": [
    {
     "name": "stdout",
     "output_type": "stream",
     "text": [
      "hello\n"
     ]
    }
   ],
   "source": [
    "b=\"hello world!\"\n",
    "print(b[0:5])\n"
   ]
  },
  {
   "cell_type": "code",
   "execution_count": 3,
   "id": "f65ab37d-46e1-475d-8e56-962ca4fbe40a",
   "metadata": {},
   "outputs": [
    {
     "name": "stdout",
     "output_type": "stream",
     "text": [
      "e, be\n"
     ]
    }
   ],
   "source": [
    "b=\"welcome, besant!\"\n",
    "print(b[6:11])"
   ]
  },
  {
   "cell_type": "code",
   "execution_count": 4,
   "id": "9ecec4a5-3ef6-4ea8-912d-3196eac315b3",
   "metadata": {},
   "outputs": [
    {
     "name": "stdout",
     "output_type": "stream",
     "text": [
      "hello \n"
     ]
    }
   ],
   "source": [
    "b=\"hello morning\"\n",
    "print(b[:6])"
   ]
  },
  {
   "cell_type": "code",
   "execution_count": 6,
   "id": "751cfc70-cd0d-4ea8-96e5-ef35e62b3811",
   "metadata": {},
   "outputs": [
    {
     "name": "stdout",
     "output_type": "stream",
     "text": [
      "orl\n"
     ]
    }
   ],
   "source": [
    "b=\"welcome, world\"\n",
    "print(b[-4:-1])\n"
   ]
  },
  {
   "cell_type": "code",
   "execution_count": 8,
   "id": "f6e07b21-4f06-4621-b1b1-9cf360717a9d",
   "metadata": {},
   "outputs": [
    {
     "name": "stdout",
     "output_type": "stream",
     "text": [
      "WELCOME\n",
      "Welcome\n"
     ]
    }
   ],
   "source": [
    "b=\"welcome\"\n",
    "print(b.upper())\n",
    "print(b.capitalize())"
   ]
  },
  {
   "cell_type": "code",
   "execution_count": 7,
   "id": "863230c5-e6d5-436a-8382-aa624d5effc6",
   "metadata": {},
   "outputs": [
    {
     "name": "stdout",
     "output_type": "stream",
     "text": [
      " fu\n"
     ]
    }
   ],
   "source": [
    "s=\"home full\"\n",
    "print(s[4:7])"
   ]
  },
  {
   "cell_type": "code",
   "execution_count": 9,
   "id": "5dcacbcd-fbd1-4935-905f-736dd9ef478e",
   "metadata": {},
   "outputs": [
    {
     "name": "stdout",
     "output_type": "stream",
     "text": [
      "home full\n",
      "HOME FULL\n"
     ]
    }
   ],
   "source": [
    "print(s.lower())\n",
    "print(s.upper())"
   ]
  },
  {
   "cell_type": "code",
   "execution_count": null,
   "id": "856e59e5-c34e-46b7-a0b1-14357e34556d",
   "metadata": {},
   "outputs": [],
   "source": []
  }
 ],
 "metadata": {
  "kernelspec": {
   "display_name": "Python 3 (ipykernel)",
   "language": "python",
   "name": "python3"
  },
  "language_info": {
   "codemirror_mode": {
    "name": "ipython",
    "version": 3
   },
   "file_extension": ".py",
   "mimetype": "text/x-python",
   "name": "python",
   "nbconvert_exporter": "python",
   "pygments_lexer": "ipython3",
   "version": "3.12.7"
  }
 },
 "nbformat": 4,
 "nbformat_minor": 5
}
