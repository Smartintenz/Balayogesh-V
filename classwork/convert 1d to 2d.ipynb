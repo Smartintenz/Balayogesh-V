{
 "cells": [
  {
   "cell_type": "code",
   "execution_count": 6,
   "id": "06557d1b-bb0a-473c-a88f-eb3e7c67b871",
   "metadata": {},
   "outputs": [
    {
     "name": "stdout",
     "output_type": "stream",
     "text": [
      "[[ 1  2  3  4  5]\n",
      " [ 6  7  8  9 10]]\n"
     ]
    }
   ],
   "source": [
    "import numpy as np\n",
    "x=np.array([1,2,3,4,5,6,7,8,9,10])\n",
    "starr=x.reshape(2,5)\n",
    "print(starr)\n",
    "#even number any value \n",
    "#odd number only one value"
   ]
  },
  {
   "cell_type": "code",
   "execution_count": 16,
   "id": "e86fd2e2-e849-4ddc-9d13-cd46ea20af7f",
   "metadata": {},
   "outputs": [
    {
     "name": "stdout",
     "output_type": "stream",
     "text": [
      "[[[ 1]\n",
      "  [ 2]\n",
      "  [ 3]]\n",
      "\n",
      " [[ 4]\n",
      "  [ 5]\n",
      "  [ 6]]\n",
      "\n",
      " [[ 7]\n",
      "  [ 8]\n",
      "  [ 9]]\n",
      "\n",
      " [[10]\n",
      "  [11]\n",
      "  [12]]]\n"
     ]
    }
   ],
   "source": [
    "x=np.array([1,2,3,4,5,6,7,8,9,10,11,12])\n",
    "carr=x.reshape(4,3,1)\n",
    "print(carr)\n"
   ]
  },
  {
   "cell_type": "code",
   "execution_count": 18,
   "id": "bf2683fc-0d09-4586-93cf-6bd55f7fc245",
   "metadata": {},
   "outputs": [],
   "source": [
    "#hw \n",
    "#is numpy is 2d or 3d\n",
    "#change prime or even"
   ]
  },
  {
   "cell_type": "code",
   "execution_count": 4,
   "id": "132bb285-55a5-41e4-aaf9-f1ba39ebfdcc",
   "metadata": {},
   "outputs": [
    {
     "name": "stdout",
     "output_type": "stream",
     "text": [
      "Addition: [[12 14 16 18 20]\n",
      " [22 24 26 28 30]]\n",
      "Subtraction: [[-10 -10 -10 -10 -10]\n",
      " [-10 -10 -10 -10 -10]]\n"
     ]
    }
   ],
   "source": [
    "import numpy as np\n",
    "x=np.array([[1,2,3,4,5],[6,7,8,9,10]])\n",
    "y=np.array([[11,12,13,14,15],[16,17,18,19,20]])\n",
    "addition = x+ y         \n",
    "subtraction = x- y \n",
    "print(\"Addition:\", addition)\n",
    "print(\"Subtraction:\", subtraction)"
   ]
  },
  {
   "cell_type": "code",
   "execution_count": 2,
   "id": "0c6d7210-d3bd-4afb-b5ce-4ff01818a493",
   "metadata": {},
   "outputs": [
    {
     "name": "stdout",
     "output_type": "stream",
     "text": [
      "Odd\n"
     ]
    }
   ],
   "source": [
    "import numpy as np\n",
    "a=np.array([5])\n",
    "if a%2==0:\n",
    "    print(\"Even\")\n",
    "else:\n",
    "    print(\"Odd\")"
   ]
  },
  {
   "cell_type": "code",
   "execution_count": null,
   "id": "e03cadec-a9ab-453b-b489-1776834e0aaf",
   "metadata": {},
   "outputs": [],
   "source": []
  }
 ],
 "metadata": {
  "kernelspec": {
   "display_name": "Python [conda env:base] *",
   "language": "python",
   "name": "conda-base-py"
  },
  "language_info": {
   "codemirror_mode": {
    "name": "ipython",
    "version": 3
   },
   "file_extension": ".py",
   "mimetype": "text/x-python",
   "name": "python",
   "nbconvert_exporter": "python",
   "pygments_lexer": "ipython3",
   "version": "3.13.5"
  }
 },
 "nbformat": 4,
 "nbformat_minor": 5
}
