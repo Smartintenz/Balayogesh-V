{
 "cells": [
  {
   "cell_type": "code",
   "execution_count": 9,
   "id": "b9cbbd7b-fd94-48e6-b02f-b28b04a5d44f",
   "metadata": {},
   "outputs": [],
   "source": [
    "import sqlite3"
   ]
  },
  {
   "cell_type": "code",
   "execution_count": 10,
   "id": "c2d3d092-b80f-4604-9831-a2b7bb1aa469",
   "metadata": {},
   "outputs": [],
   "source": [
    "conn=sqlite3.connect(\"class1.db\")"
   ]
  },
  {
   "cell_type": "code",
   "execution_count": 11,
   "id": "4df0a982-74ce-451d-82c9-25a7cc3ff883",
   "metadata": {},
   "outputs": [],
   "source": [
    "cur=conn.cursor()"
   ]
  },
  {
   "cell_type": "code",
   "execution_count": 16,
   "id": "5c8fcb85-8fcd-478c-9cad-7d68bf9e7646",
   "metadata": {},
   "outputs": [],
   "source": [
    "cur.execute(\"create table if not exists new(id int primary key ,name varchar,dept varchar)\")\n",
    "conn.commit()"
   ]
  },
  {
   "cell_type": "code",
   "execution_count": null,
   "id": "45e5cbcd-2d76-46d0-892d-36b5f2111bef",
   "metadata": {},
   "outputs": [],
   "source": [
    "name="
   ]
  }
 ],
 "metadata": {
  "kernelspec": {
   "display_name": "Python [conda env:base] *",
   "language": "python",
   "name": "conda-base-py"
  },
  "language_info": {
   "codemirror_mode": {
    "name": "ipython",
    "version": 3
   },
   "file_extension": ".py",
   "mimetype": "text/x-python",
   "name": "python",
   "nbconvert_exporter": "python",
   "pygments_lexer": "ipython3",
   "version": "3.13.5"
  }
 },
 "nbformat": 4,
 "nbformat_minor": 5
}
