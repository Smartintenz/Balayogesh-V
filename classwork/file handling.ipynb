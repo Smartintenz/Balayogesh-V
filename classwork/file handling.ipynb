{
 "cells": [
  {
   "cell_type": "code",
   "execution_count": 18,
   "id": "71ac0800-8e3c-4324-b847-f0a30ca5bc84",
   "metadata": {},
   "outputs": [
    {
     "data": {
      "text/plain": [
       "'thank you its ok'"
      ]
     },
     "execution_count": 18,
     "metadata": {},
     "output_type": "execute_result"
    }
   ],
   "source": [
    "f=open(\"Text 01.txt\",\"r\")\n",
    "f.read()"
   ]
  },
  {
   "cell_type": "code",
   "execution_count": 15,
   "id": "0761f4fd-589d-453c-9c4f-f7ef8c55334d",
   "metadata": {},
   "outputs": [],
   "source": [
    "f=open(\"Text 01.txt\",\"w\")\n",
    "f.write(\"thank you\")\n",
    "f.close()"
   ]
  },
  {
   "cell_type": "code",
   "execution_count": 17,
   "id": "c0821976-08f4-40d5-a15a-ecdde7571ac8",
   "metadata": {},
   "outputs": [],
   "source": [
    "f=open(\"Text 01.txt\",\"a\")\n",
    "f.write(\" its ok\")\n",
    "f.close()"
   ]
  },
  {
   "cell_type": "code",
   "execution_count": null,
   "id": "9104b014-8ca8-43e7-a1c9-1ff7e660198d",
   "metadata": {},
   "outputs": [],
   "source": []
  }
 ],
 "metadata": {
  "kernelspec": {
   "display_name": "Python [conda env:base] *",
   "language": "python",
   "name": "conda-base-py"
  },
  "language_info": {
   "codemirror_mode": {
    "name": "ipython",
    "version": 3
   },
   "file_extension": ".py",
   "mimetype": "text/x-python",
   "name": "python",
   "nbconvert_exporter": "python",
   "pygments_lexer": "ipython3",
   "version": "3.12.7"
  }
 },
 "nbformat": 4,
 "nbformat_minor": 5
}
