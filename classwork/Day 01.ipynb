{
 "cells": [
  {
   "cell_type": "code",
   "execution_count": 1,
   "id": "11f567fe-442a-4fb7-8d9a-27cefce42ba4",
   "metadata": {},
   "outputs": [
    {
     "name": "stdout",
     "output_type": "stream",
     "text": [
      "Hello World\n"
     ]
    }
   ],
   "source": [
    "print(\"Hello World\")"
   ]
  },
  {
   "cell_type": "code",
   "execution_count": 2,
   "id": "7a5b6bf1-24ad-4a67-931e-fe5ddea7e25a",
   "metadata": {},
   "outputs": [
    {
     "data": {
      "text/plain": [
       "'3.12.7 | packaged by Anaconda, Inc. | (main, Oct  4 2024, 13:17:27) [MSC v.1929 64 bit (AMD64)]'"
      ]
     },
     "execution_count": 2,
     "metadata": {},
     "output_type": "execute_result"
    }
   ],
   "source": [
    "import sys\n",
    "sys.version\n"
   ]
  },
  {
   "cell_type": "code",
   "execution_count": 1,
   "id": "ef50f57a-ed05-4468-8e4f-5f43a755ab26",
   "metadata": {},
   "outputs": [
    {
     "name": "stdout",
     "output_type": "stream",
     "text": [
      "7\n"
     ]
    }
   ],
   "source": [
    "k=7\n",
    "print(k)"
   ]
  },
  {
   "cell_type": "code",
   "execution_count": 4,
   "id": "c4a40841-ac12-48cf-aa2d-e95d3c579554",
   "metadata": {},
   "outputs": [
    {
     "data": {
      "text/plain": [
       "'apple'"
      ]
     },
     "execution_count": 4,
     "metadata": {},
     "output_type": "execute_result"
    }
   ],
   "source": [
    "k,l,m=\"apple\",\"banana\",\"orange\"\n",
    "k\n"
   ]
  },
  {
   "cell_type": "code",
   "execution_count": 6,
   "id": "ec4054f8-f28e-42e7-864c-2b6d1c7edca0",
   "metadata": {},
   "outputs": [
    {
     "name": "stdin",
     "output_type": "stream",
     "text": [
      " 89\n"
     ]
    },
    {
     "name": "stdout",
     "output_type": "stream",
     "text": [
      "1\n",
      "89\n"
     ]
    }
   ],
   "source": [
    "my_variable=input()\n",
    "l=89\n",
    "print(1)\n",
    "print(my_variable)\n"
   ]
  },
  {
   "cell_type": "code",
   "execution_count": 7,
   "id": "0c0f1408-560c-40a0-ada7-4bd332756ad6",
   "metadata": {},
   "outputs": [
    {
     "name": "stdin",
     "output_type": "stream",
     "text": [
      "enter your variable 76\n"
     ]
    }
   ],
   "source": [
    "my_variable =input(\"enter your variable\")\n"
   ]
  },
  {
   "cell_type": "code",
   "execution_count": 8,
   "id": "51308371-34df-431a-bf51-361cbfacba24",
   "metadata": {},
   "outputs": [
    {
     "name": "stdout",
     "output_type": "stream",
     "text": [
      "<class 'int'>\n"
     ]
    }
   ],
   "source": [
    "k=7\n",
    "print(type(k))\n"
   ]
  },
  {
   "cell_type": "code",
   "execution_count": 9,
   "id": "bbd828b9-9b76-40c8-83d7-e7172019fbe7",
   "metadata": {},
   "outputs": [
    {
     "name": "stdout",
     "output_type": "stream",
     "text": [
      "<class 'str'>\n"
     ]
    }
   ],
   "source": [
    "k1=\"7\"\n",
    "print(type(k1))\n"
   ]
  },
  {
   "cell_type": "code",
   "execution_count": 10,
   "id": "b37d9d8a-62fc-4b6e-94b3-78e9cc5329cc",
   "metadata": {},
   "outputs": [
    {
     "name": "stdout",
     "output_type": "stream",
     "text": [
      "7\n"
     ]
    }
   ],
   "source": [
    "k=7\n",
    "print(str(k))\n"
   ]
  },
  {
   "cell_type": "code",
   "execution_count": 11,
   "id": "223b4cd7-aea5-476c-83c0-ac0a3c5189c6",
   "metadata": {},
   "outputs": [
    {
     "name": "stdout",
     "output_type": "stream",
     "text": [
      "(7+0j)\n"
     ]
    }
   ],
   "source": [
    "k=7\n",
    "print(complex(k))\n"
   ]
  },
  {
   "cell_type": "code",
   "execution_count": 13,
   "id": "5432bb06-740b-478b-84da-489bd9ddec9c",
   "metadata": {},
   "outputs": [
    {
     "name": "stdout",
     "output_type": "stream",
     "text": [
      "7.0\n"
     ]
    }
   ],
   "source": [
    "k=7\n",
    "print(float(k))\n"
   ]
  },
  {
   "cell_type": "markdown",
   "id": "1b54c01c-c7e6-42f6-8dee-6a0a4753a76c",
   "metadata": {},
   "source": [
    "k1=\"Hi\"\n",
    "print(int(k1))\n"
   ]
  },
  {
   "cell_type": "code",
   "execution_count": 14,
   "id": "657b7ec0-6cb5-48c2-b8cf-b9802d07f361",
   "metadata": {},
   "outputs": [
    {
     "ename": "ValueError",
     "evalue": "could not convert string to float: 'hi'",
     "output_type": "error",
     "traceback": [
      "\u001b[1;31m---------------------------------------------------------------------------\u001b[0m",
      "\u001b[1;31mValueError\u001b[0m                                Traceback (most recent call last)",
      "Cell \u001b[1;32mIn[14], line 2\u001b[0m\n\u001b[0;32m      1\u001b[0m k1\u001b[38;5;241m=\u001b[39m\u001b[38;5;124m\"\u001b[39m\u001b[38;5;124mhi\u001b[39m\u001b[38;5;124m\"\u001b[39m\n\u001b[1;32m----> 2\u001b[0m \u001b[38;5;28mprint\u001b[39m(\u001b[38;5;28mfloat\u001b[39m(k1))\n",
      "\u001b[1;31mValueError\u001b[0m: could not convert string to float: 'hi'"
     ]
    }
   ],
   "source": [
    "k1=\"hi\"\n",
    "print(float(k1))\n"
   ]
  },
  {
   "cell_type": "code",
   "execution_count": 15,
   "id": "35720639-a979-40ac-b0ec-1d699f7dcc02",
   "metadata": {},
   "outputs": [
    {
     "ename": "ValueError",
     "evalue": "complex() arg is a malformed string",
     "output_type": "error",
     "traceback": [
      "\u001b[1;31m---------------------------------------------------------------------------\u001b[0m",
      "\u001b[1;31mValueError\u001b[0m                                Traceback (most recent call last)",
      "Cell \u001b[1;32mIn[15], line 2\u001b[0m\n\u001b[0;32m      1\u001b[0m k1\u001b[38;5;241m=\u001b[39m\u001b[38;5;124m\"\u001b[39m\u001b[38;5;124mhi\u001b[39m\u001b[38;5;124m\"\u001b[39m\n\u001b[1;32m----> 2\u001b[0m \u001b[38;5;28mprint\u001b[39m(\u001b[38;5;28mcomplex\u001b[39m(k1))\n",
      "\u001b[1;31mValueError\u001b[0m: complex() arg is a malformed string"
     ]
    }
   ],
   "source": [
    "k1=\"hi\"\n",
    "print(complex(k1))\n"
   ]
  },
  {
   "cell_type": "code",
   "execution_count": 16,
   "id": "031025f4-15bd-4306-ae03-2230b745486d",
   "metadata": {},
   "outputs": [
    {
     "name": "stdout",
     "output_type": "stream",
     "text": [
      "89\n"
     ]
    }
   ],
   "source": [
    "k2=\"89\"\n",
    "print(int(k2))\n"
   ]
  },
  {
   "cell_type": "code",
   "execution_count": 17,
   "id": "80a93588-b333-44b8-ae2e-0dfd048507f9",
   "metadata": {},
   "outputs": [
    {
     "name": "stdout",
     "output_type": "stream",
     "text": [
      "89.0\n"
     ]
    }
   ],
   "source": [
    "k2=89\n",
    "print(float(k2))\n"
   ]
  },
  {
   "cell_type": "code",
   "execution_count": 18,
   "id": "242bbb27-4c1e-4753-b7c9-34cfb16829b9",
   "metadata": {},
   "outputs": [
    {
     "name": "stdout",
     "output_type": "stream",
     "text": [
      "(89+0j)\n"
     ]
    }
   ],
   "source": [
    "k2=89\n",
    "print(complex(k2))\n"
   ]
  },
  {
   "cell_type": "code",
   "execution_count": 19,
   "id": "93e508ff-5267-49ff-bcde-993fd8e2e815",
   "metadata": {},
   "outputs": [
    {
     "name": "stdout",
     "output_type": "stream",
     "text": [
      "(1+3j)\n"
     ]
    }
   ],
   "source": [
    "k3=1+3j\n",
    "print(str(k3))\n"
   ]
  },
  {
   "cell_type": "code",
   "execution_count": 20,
   "id": "213aab76-ce19-470a-bab7-74e850e2a659",
   "metadata": {},
   "outputs": [
    {
     "ename": "TypeError",
     "evalue": "int() argument must be a string, a bytes-like object or a real number, not 'complex'",
     "output_type": "error",
     "traceback": [
      "\u001b[1;31m---------------------------------------------------------------------------\u001b[0m",
      "\u001b[1;31mTypeError\u001b[0m                                 Traceback (most recent call last)",
      "Cell \u001b[1;32mIn[20], line 2\u001b[0m\n\u001b[0;32m      1\u001b[0m k3\u001b[38;5;241m=\u001b[39m\u001b[38;5;241m1\u001b[39m\u001b[38;5;241m+\u001b[39m\u001b[38;5;241m3\u001b[39mj\n\u001b[1;32m----> 2\u001b[0m \u001b[38;5;28mprint\u001b[39m(\u001b[38;5;28mint\u001b[39m(k3))\n",
      "\u001b[1;31mTypeError\u001b[0m: int() argument must be a string, a bytes-like object or a real number, not 'complex'"
     ]
    }
   ],
   "source": [
    "k3=1+3j\n",
    "print(int(k3))"
   ]
  },
  {
   "cell_type": "code",
   "execution_count": 21,
   "id": "1b8ef0ef-7d94-4858-a211-bd3c46c2c1be",
   "metadata": {},
   "outputs": [
    {
     "name": "stdout",
     "output_type": "stream",
     "text": [
      "7\n"
     ]
    }
   ],
   "source": [
    "k4=7.8\n",
    "print(int(k4))\n"
   ]
  },
  {
   "cell_type": "code",
   "execution_count": 22,
   "id": "4103b150-a257-4754-9cb4-41ed77fb1c5b",
   "metadata": {},
   "outputs": [
    {
     "name": "stdout",
     "output_type": "stream",
     "text": [
      "(7.8+0j)\n"
     ]
    }
   ],
   "source": [
    "k4=7.8\n",
    "print(complex(7.8))\n",
    "\n",
    "      "
   ]
  },
  {
   "cell_type": "code",
   "execution_count": 23,
   "id": "6988a580-29c0-4e0d-a535-8fd757fd1ba9",
   "metadata": {},
   "outputs": [
    {
     "name": "stdout",
     "output_type": "stream",
     "text": [
      "7.8\n"
     ]
    }
   ],
   "source": [
    "k4=7.8\n",
    "print(str(k4))\n"
   ]
  },
  {
   "cell_type": "code",
   "execution_count": 1,
   "id": "a4901ea2-0e75-483e-8fa7-bb63cef4eaca",
   "metadata": {},
   "outputs": [
    {
     "name": "stdout",
     "output_type": "stream",
     "text": [
      "78\n",
      "78.0\n",
      "(78+0j)\n"
     ]
    }
   ],
   "source": [
    "k2=78\n",
    "print(int(k2))\n",
    "print(float(k2))\n",
    "print(complex(k2))"
   ]
  },
  {
   "cell_type": "code",
   "execution_count": 2,
   "id": "e9d0fcac-bab4-4291-99c8-61051ed18011",
   "metadata": {},
   "outputs": [
    {
     "name": "stdout",
     "output_type": "stream",
     "text": [
      "22.0\n",
      "(22+0j)\n"
     ]
    }
   ],
   "source": [
    "k3=22.0\n",
    "print(str(k3))\n",
    "print(complex(k3))"
   ]
  },
  {
   "cell_type": "code",
   "execution_count": 3,
   "id": "b09cdc98-ff7d-4370-990e-466634af9bbe",
   "metadata": {},
   "outputs": [
    {
     "name": "stdout",
     "output_type": "stream",
     "text": [
      "22.0\n"
     ]
    }
   ],
   "source": [
    "print(float(k3))"
   ]
  },
  {
   "cell_type": "code",
   "execution_count": null,
   "id": "f3347eeb-01bf-4035-ae2b-8a100f656a23",
   "metadata": {},
   "outputs": [],
   "source": [
    "s"
   ]
  }
 ],
 "metadata": {
  "kernelspec": {
   "display_name": "Python 3 (ipykernel)",
   "language": "python",
   "name": "python3"
  },
  "language_info": {
   "codemirror_mode": {
    "name": "ipython",
    "version": 3
   },
   "file_extension": ".py",
   "mimetype": "text/x-python",
   "name": "python",
   "nbconvert_exporter": "python",
   "pygments_lexer": "ipython3",
   "version": "3.12.7"
  }
 },
 "nbformat": 4,
 "nbformat_minor": 5
}
