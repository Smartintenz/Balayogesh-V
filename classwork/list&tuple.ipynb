{
 "cells": [
  {
   "cell_type": "code",
   "execution_count": 123,
   "id": "99d39b75-b189-487c-9905-181897670675",
   "metadata": {},
   "outputs": [
    {
     "data": {
      "text/plain": [
       "['apple', 'banana', 'cherry', 'orange', 'kiwi', 'mango', 1, 2, 4, 5]"
      ]
     },
     "execution_count": 123,
     "metadata": {},
     "output_type": "execute_result"
    }
   ],
   "source": [
    "mylist=['apple','banana','cherry','orange','kiwi','mango']\n",
    "mylist1=[1,2,4,5]\n",
    "x=mylist+mylist1\n",
    "x\n"
   ]
  },
  {
   "cell_type": "code",
   "execution_count": 124,
   "id": "06cea1cd-8b99-4375-929f-8d90fcf6b619",
   "metadata": {},
   "outputs": [
    {
     "data": {
      "text/plain": [
       "[['apple', 'banana', 'cherry', 'orange', 'kiwi', 'mango', 1, 2, 4, 5],\n",
       " [9, 8, 7, 6]]"
      ]
     },
     "execution_count": 124,
     "metadata": {},
     "output_type": "execute_result"
    }
   ],
   "source": [
    "list2=[9,8,7,6]\n",
    "list2=[x]+[list2]\n",
    "list2"
   ]
  },
  {
   "cell_type": "code",
   "execution_count": 125,
   "id": "952b4021-c4ce-4c08-889b-6399956fc5c1",
   "metadata": {},
   "outputs": [
    {
     "data": {
      "text/plain": [
       "[9, 8, 7, 6, 'apple', 'banana', 'cherry', 'orange', 'kiwi', 'mango']"
      ]
     },
     "execution_count": 125,
     "metadata": {},
     "output_type": "execute_result"
    }
   ],
   "source": [
    "list2=[9,8,7,6]\n",
    "mylist=['apple','banana','cherry','orange','kiwi','mango']\n",
    "for i in mylist:\n",
    "    list2.append(i)\n",
    "list2   "
   ]
  },
  {
   "cell_type": "code",
   "execution_count": 126,
   "id": "3c17ad84-0718-47f2-8056-3118a05ae8ff",
   "metadata": {},
   "outputs": [
    {
     "name": "stdout",
     "output_type": "stream",
     "text": [
      "[2, 4, 6, 8, 10, 88]\n"
     ]
    },
    {
     "data": {
      "text/plain": [
       "(2, 4, 6, 8, 10, 88)"
      ]
     },
     "execution_count": 126,
     "metadata": {},
     "output_type": "execute_result"
    }
   ],
   "source": [
    "t=(2,4,6,8,10)\n",
    "l=list(t)\n",
    "l.append(88)\n",
    "print(l)\n",
    "t=tuple(l)\n",
    "t"
   ]
  },
  {
   "cell_type": "code",
   "execution_count": 127,
   "id": "7d6d0bc7-4bcb-4497-9050-cf0aec54855c",
   "metadata": {},
   "outputs": [
    {
     "data": {
      "text/plain": [
       "['apple', 'banana', 'cherry', 'kiwi', 'mango', 'orange']"
      ]
     },
     "execution_count": 127,
     "metadata": {},
     "output_type": "execute_result"
    }
   ],
   "source": [
    "mylist=['apple','banana','cherry','orange','kiwi','mango']\n",
    "mylist.sort()\n",
    "mylist"
   ]
  },
  {
   "cell_type": "code",
   "execution_count": 128,
   "id": "46b61eeb-137f-4679-985a-f307efe2031b",
   "metadata": {},
   "outputs": [
    {
     "name": "stdout",
     "output_type": "stream",
     "text": [
      "['orange', 'mango', 'kiwi', 'cherry', 'banana', 'apple']\n"
     ]
    }
   ],
   "source": [
    "mylist=['apple','banana','cherry','orange','kiwi','mango']\n",
    "mylist.sort(reverse = True)\n",
    "print(mylist)"
   ]
  },
  {
   "cell_type": "code",
   "execution_count": 129,
   "id": "ab52416a-8536-4a66-a9bf-1f434e0c0dbc",
   "metadata": {},
   "outputs": [
    {
     "name": "stdout",
     "output_type": "stream",
     "text": [
      "['banana']\n",
      "['apple', 'banana', 'cherry', 'orange', 'mango', 'grape', 'pineapple']\n"
     ]
    }
   ],
   "source": [
    "mytuple=['apple','banana','cherry','orange','kiwi','mango','banana']\n",
    "print(mytuple[6:])\n",
    "mylist=['apple','banana','cherry','orange','mango','grape','pineapple']\n",
    "print(mylist[:7])\n"
   ]
  },
  {
   "cell_type": "code",
   "execution_count": 130,
   "id": "4b7aa1ae-81a7-4e94-8b51-1039da6ef5e7",
   "metadata": {},
   "outputs": [
    {
     "name": "stdout",
     "output_type": "stream",
     "text": [
      "('apple', 'banana', 'kiwi')\n"
     ]
    }
   ],
   "source": [
    "x=['apple','banana','cherry']\n",
    "y=list(x)\n",
    "y[2]=\"kiwi\"\n",
    "x=tuple(y)\n",
    "\n",
    "print(x)"
   ]
  },
  {
   "cell_type": "code",
   "execution_count": 131,
   "id": "5d1ddd53-b189-4d70-a6f7-0a327ba4d2a9",
   "metadata": {},
   "outputs": [
    {
     "name": "stdout",
     "output_type": "stream",
     "text": [
      "cherry\n",
      "mango\n",
      "apple\n"
     ]
    }
   ],
   "source": [
    "fruit =('apple','banana','cherry','orange','kiwi','mango')\n",
    "(red,yellow,green,white,darkgreen,yellow)= fruit\n",
    "mylist=['apple','banana','cherry','orange','kiwi','mango']\n",
    "print(green)\n",
    "print(yellow)\n",
    "print(red)"
   ]
  },
  {
   "cell_type": "code",
   "execution_count": 133,
   "id": "86b0c1e3-58e0-4e76-b9ff-063914b6199c",
   "metadata": {},
   "outputs": [
    {
     "name": "stdout",
     "output_type": "stream",
     "text": [
      "apple\n",
      "['banana', 'cherry', 'orange', 'kiwi', 'mango', 22, 32]\n",
      "89\n"
     ]
    }
   ],
   "source": [
    "fruit=['apple','banana','cherry','orange','kiwi','mango',22,32,56,89]\n",
    "(green,*tropic,yellow,red)= fruit\n",
    "print(green)\n",
    "print(tropic)\n",
    "print(red)"
   ]
  },
  {
   "cell_type": "code",
   "execution_count": 134,
   "id": "94a882c1-2ab7-4aec-9be8-00a616255ae4",
   "metadata": {},
   "outputs": [
    {
     "name": "stdout",
     "output_type": "stream",
     "text": [
      "apple\n",
      "banana\n",
      "cherry\n",
      "orange\n",
      "kiwi\n",
      "mango\n",
      "banana\n"
     ]
    }
   ],
   "source": [
    "mylist=['apple','banana','cherry','orange','kiwi','mango']\n",
    "for i in mytuple:\n",
    "    print(i)"
   ]
  },
  {
   "cell_type": "code",
   "execution_count": 135,
   "id": "b5b8286b-0ef4-492c-969e-a4e1ae8e4784",
   "metadata": {},
   "outputs": [
    {
     "name": "stdout",
     "output_type": "stream",
     "text": [
      "apple\n",
      "banana\n",
      "cherry\n",
      "orange\n",
      "kiwi\n",
      "mango\n"
     ]
    }
   ],
   "source": [
    "mylist=['apple','banana','cherry','orange','kiwi','mango']\n",
    "for i in range(len(mylist)):\n",
    "    print(mylist[i])"
   ]
  },
  {
   "cell_type": "code",
   "execution_count": 136,
   "id": "ade6821e-498e-497f-a13c-8e5916d9a340",
   "metadata": {},
   "outputs": [
    {
     "name": "stdout",
     "output_type": "stream",
     "text": [
      "('a', 'b', 'c', 'd', 1, 2, 3)\n"
     ]
    }
   ],
   "source": [
    "mytuple1=('a','b','c','d')\n",
    "mytuple2=(1,2,3)\n",
    "mytuple3=mytuple1+mytuple2\n",
    "print(mytuple3)"
   ]
  },
  {
   "cell_type": "code",
   "execution_count": 143,
   "id": "0cce5079-b4d3-49f4-8737-5e5993c7d078",
   "metadata": {},
   "outputs": [
    {
     "data": {
      "text/plain": [
       "0"
      ]
     },
     "execution_count": 143,
     "metadata": {},
     "output_type": "execute_result"
    }
   ],
   "source": [
    "mytuple=('apple','banana','cherry','orange','kiwi','mango')\n",
    "mylist = mytuple.count(5)\n",
    "mylist"
   ]
  },
  {
   "cell_type": "code",
   "execution_count": null,
   "id": "26bb1485-bb23-471c-9fe1-f07553f52b6d",
   "metadata": {},
   "outputs": [],
   "source": []
  },
  {
   "cell_type": "code",
   "execution_count": null,
   "id": "03d37ffd-5b81-4109-b06f-f8965d692a2d",
   "metadata": {},
   "outputs": [],
   "source": []
  }
 ],
 "metadata": {
  "kernelspec": {
   "display_name": "Python [conda env:base] *",
   "language": "python",
   "name": "conda-base-py"
  },
  "language_info": {
   "codemirror_mode": {
    "name": "ipython",
    "version": 3
   },
   "file_extension": ".py",
   "mimetype": "text/x-python",
   "name": "python",
   "nbconvert_exporter": "python",
   "pygments_lexer": "ipython3",
   "version": "3.12.7"
  }
 },
 "nbformat": 4,
 "nbformat_minor": 5
}
