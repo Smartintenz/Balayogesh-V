{
 "cells": [
  {
   "cell_type": "code",
   "execution_count": 28,
   "id": "76b80da0-ba5a-4cb1-85bf-56676460c3d4",
   "metadata": {},
   "outputs": [
    {
     "name": "stdout",
     "output_type": "stream",
     "text": [
      "{'c': 1, 'a': 1, 'r': 1, 'e': 1}\n",
      "{'r': 1, 'a': 1, 'c': 1, 'e': 1}\n",
      "it is anagram.\n"
     ]
    }
   ],
   "source": [
    "s=\"care\"\n",
    "g=\"race\"\n",
    "a={}\n",
    "b={}\n",
    "for i in s:\n",
    "     if i not in a:\n",
    "         a[i]=1\n",
    "     else:\n",
    "         a[i]+=1\n",
    "\n",
    "for i in g:\n",
    "    if i not in b:\n",
    "        b[i]=1\n",
    "    else:\n",
    "        b[i]+=1\n",
    "        \n",
    "print(a)\n",
    "print(b)\n",
    "if a == b:\n",
    "    print(\"it is anagram.\")\n",
    "else:\n",
    "    print(\"it is not anagram.\")"
   ]
  },
  {
   "cell_type": "code",
   "execution_count": 2,
   "id": "f8ea44a4-7b09-4339-bd31-31d5d2e4dc65",
   "metadata": {},
   "outputs": [
    {
     "name": "stdout",
     "output_type": "stream",
     "text": [
      "(1,9) \n",
      "(2,8) \n",
      "(3,7) \n",
      "(4,6) \n",
      "(5,5) \n"
     ]
    }
   ],
   "source": [
    "\n",
    "num = 10\n",
    "for i in range(1, num):\n",
    "    j = num - i\n",
    "    if i<=j and j<=num:\n",
    "        print(f\"({i},{j}) \")"
   ]
  },
  {
   "cell_type": "code",
   "execution_count": 4,
   "id": "6a3f4e4b-c46b-4697-84a6-abfe0b8c6c12",
   "metadata": {},
   "outputs": [
    {
     "name": "stdout",
     "output_type": "stream",
     "text": [
      "1 + 19 = 20\n",
      "2 + 18 = 20\n",
      "3 + 17 = 20\n",
      "4 + 16 = 20\n",
      "5 + 15 = 20\n",
      "6 + 14 = 20\n",
      "7 + 13 = 20\n",
      "8 + 12 = 20\n",
      "9 + 11 = 20\n",
      "10 + 10 = 20\n"
     ]
    }
   ],
   "source": [
    "num = 20\n",
    "\n",
    "for i in range(1, num):\n",
    "    j = num - i\n",
    "    if i>j:\n",
    "        break\n",
    "    print(f\"{i} + {j} = {num}\")"
   ]
  },
  {
   "cell_type": "code",
   "execution_count": null,
   "id": "149cfa44-a6fb-4c82-8c7f-05e72c7ecbd7",
   "metadata": {},
   "outputs": [],
   "source": []
  }
 ],
 "metadata": {
  "kernelspec": {
   "display_name": "Python [conda env:base] *",
   "language": "python",
   "name": "conda-base-py"
  },
  "language_info": {
   "codemirror_mode": {
    "name": "ipython",
    "version": 3
   },
   "file_extension": ".py",
   "mimetype": "text/x-python",
   "name": "python",
   "nbconvert_exporter": "python",
   "pygments_lexer": "ipython3",
   "version": "3.13.5"
  }
 },
 "nbformat": 4,
 "nbformat_minor": 5
}
