{
 "cells": [
  {
   "cell_type": "code",
   "execution_count": 1,
   "id": "b16f9eeb-c333-4ad7-a620-9c467b4c226f",
   "metadata": {},
   "outputs": [
    {
     "name": "stdout",
     "output_type": "stream",
     "text": [
      "True\n"
     ]
    }
   ],
   "source": [
    "#check the anagram\n",
    "str1='listen'\n",
    "str2='silent'\n",
    "if (sorted(str1) == sorted(str2)):\n",
    "   print(True)\n",
    "else:\n",
    "    print(False)"
   ]
  },
  {
   "cell_type": "code",
   "execution_count": 25,
   "id": "2b26cfcc-cf87-4f59-a2ee-1ec72cb43b45",
   "metadata": {},
   "outputs": [
    {
     "name": "stdout",
     "output_type": "stream",
     "text": [
      "True\n"
     ]
    }
   ],
   "source": [
    "# check palindrome\n",
    "text=\"madam\"\n",
    "text[::-1]\n",
    "print(\"True\")\n"
   ]
  },
  {
   "cell_type": "code",
   "execution_count": 26,
   "id": "ec2d978b-2412-4230-a274-f7ea3067e2a7",
   "metadata": {},
   "outputs": [
    {
     "name": "stdin",
     "output_type": "stream",
     "text": [
      " 9\n"
     ]
    },
    {
     "name": "stdout",
     "output_type": "stream",
     "text": [
      "odd\n"
     ]
    }
   ],
   "source": [
    "number=int(input())\n",
    "if number%2==0:\n",
    " print(\"even\")\n",
    "else:\n",
    "  print(\"odd\")"
   ]
  },
  {
   "cell_type": "code",
   "execution_count": 30,
   "id": "4b9eae82-b3ba-4575-b19c-04844763ab73",
   "metadata": {},
   "outputs": [
    {
     "name": "stdin",
     "output_type": "stream",
     "text": [
      " python\n"
     ]
    },
    {
     "data": {
      "text/plain": [
       "'nohtyp'"
      ]
     },
     "execution_count": 30,
     "metadata": {},
     "output_type": "execute_result"
    }
   ],
   "source": [
    "text=input()\n",
    "text[::-1]"
   ]
  },
  {
   "cell_type": "code",
   "execution_count": 5,
   "id": "edd6bccb-69c2-4aff-b0e5-ffe8926806f7",
   "metadata": {},
   "outputs": [
    {
     "name": "stdout",
     "output_type": "stream",
     "text": [
      "Number of vowels: 3\n"
     ]
    }
   ],
   "source": [
    "text=\"Hello World\"\n",
    "vowels=\"aeiouAEIOU\"\n",
    "count=0\n",
    "for ch in text:\n",
    "    if ch in vowels:\n",
    "        count=count+ 1\n",
    "\n",
    "print(\"Number of vowels:\", count)"
   ]
  },
  {
   "cell_type": "code",
   "execution_count": 6,
   "id": "e5b26933-ad00-4a41-aa54-ed5ba84c139d",
   "metadata": {},
   "outputs": [
    {
     "name": "stdin",
     "output_type": "stream",
     "text": [
      "Enter a number:  7\n"
     ]
    },
    {
     "name": "stdout",
     "output_type": "stream",
     "text": [
      "5040\n"
     ]
    }
   ],
   "source": [
    "n = int(input(\"Enter a number: \"))\n",
    "factorial = 1\n",
    "\n",
    "for i in range(1, n+1):\n",
    "    factorial = factorial * i\n",
    "\n",
    "print(factorial)\n"
   ]
  },
  {
   "cell_type": "code",
   "execution_count": 7,
   "id": "f2ef8ebb-14d5-4b7f-b602-c1fc550dc8a5",
   "metadata": {},
   "outputs": [
    {
     "name": "stdout",
     "output_type": "stream",
     "text": [
      "Ascending order: [5, 12, 29, 34, 66]\n",
      "Descending order: [66, 34, 29, 12, 5]\n"
     ]
    }
   ],
   "source": [
    "data=[34,12,5,66,29]\n",
    "for i in range(len(data)):\n",
    "    for j in range(i + 1, len(data)):\n",
    "        if data[i] > data[j]:\n",
    "            data[i], data[j] = data[j], data[i]\n",
    "\n",
    "print(\"Ascending order:\", data)\n",
    "\n",
    "for i in range(len(data)):\n",
    "    for j in range(i + 1, len(data)):\n",
    "        if data[i] < data[j]:\n",
    "            data[i], data[j] = data[j], data[i]\n",
    "\n",
    "print(\"Descending order:\", data)"
   ]
  },
  {
   "cell_type": "code",
   "execution_count": 27,
   "id": "d3757943-9df4-4883-8d8e-a60c8e5baed1",
   "metadata": {},
   "outputs": [
    {
     "name": "stdin",
     "output_type": "stream",
     "text": [
      " 22\n"
     ]
    },
    {
     "name": "stdout",
     "output_type": "stream",
     "text": [
      "n\n"
     ]
    }
   ],
   "source": [
    "n=int(input(''))\n",
    "count=0\n",
    "for i in range(1,n):\n",
    "   if n%i==0:\n",
    "        count=count+1\n",
    "if count==1:\n",
    "    print(\"p\")\n",
    "else:\n",
    "    print(\"n\")\n"
   ]
  },
  {
   "cell_type": "code",
   "execution_count": 28,
   "id": "5281d0e7-8ab1-48a3-8839-a0127109233f",
   "metadata": {},
   "outputs": [
    {
     "name": "stdout",
     "output_type": "stream",
     "text": [
      "89\n",
      "7\n"
     ]
    }
   ],
   "source": [
    "\n",
    "data = [12,45,7,89,23]\n",
    "\n",
    "mini = data[0]  \n",
    "maxi = data[0]\n",
    "\n",
    "for item in data:\n",
    "    if item < mini:\n",
    "        mini = item\n",
    "    if item > maxi:\n",
    "        maxi = item\n",
    "\n",
    "\n",
    "print(maxi)\n",
    "print(mini)"
   ]
  },
  {
   "cell_type": "code",
   "execution_count": 30,
   "id": "712ff13b-f3f6-418d-9d59-99221d73a973",
   "metadata": {},
   "outputs": [
    {
     "name": "stdout",
     "output_type": "stream",
     "text": [
      "False\n"
     ]
    }
   ],
   "source": [
    "def is_palindrome(text):\n",
    "    reversed_text= text[::-1]\n",
    "    if text == reversed_text:\n",
    "      return True\n",
    "    else:\n",
    "      return False\n",
    "text=\"car\"\n",
    "\n",
    "if is_palindrome(text):\n",
    "    print(\"True\")\n",
    "else:\n",
    "     print(\"False\")\n"
   ]
  },
  {
   "cell_type": "code",
   "execution_count": 33,
   "id": "d4618c5c-8832-4147-90b6-6802ea925cf2",
   "metadata": {},
   "outputs": [
    {
     "name": "stdout",
     "output_type": "stream",
     "text": [
      "second_smallest 11\n",
      "second_largest 55\n"
     ]
    }
   ],
   "source": [
    "#Find 2nd Largest and 2nd Smallest Number\n",
    "l=[12,89,11,7,55]\n",
    "values = list(set(l))\n",
    "values.sort()\n",
    "second_smallest = values[1]\n",
    "second_largest = values[-2]\n",
    "print(\"second_smallest\",second_smallest)\n",
    "print(\"second_largest\",second_largest)"
   ]
  },
  {
   "cell_type": "code",
   "execution_count": 35,
   "id": "53a2e31d-16bd-4278-9f96-da192bdd6bc2",
   "metadata": {},
   "outputs": [
    {
     "name": "stdin",
     "output_type": "stream",
     "text": [
      "Enter a number:  771\n"
     ]
    },
    {
     "name": "stdout",
     "output_type": "stream",
     "text": [
      "Sum of digits: 15\n"
     ]
    }
   ],
   "source": [
    "#Sum of Digits in a Number\n",
    "i = int(input(\"Enter a number: \"))\n",
    "total = 0\n",
    "for digit in str(i):\n",
    "    total += int(digit)\n",
    "print(\"Sum of digits:\", total)\n"
   ]
  },
  {
   "cell_type": "code",
   "execution_count": 18,
   "id": "8ee56cbe-5b6d-4272-8792-d433b8e161b4",
   "metadata": {},
   "outputs": [
    {
     "name": "stdout",
     "output_type": "stream",
     "text": [
      "['apple', 'orange', 'banana', 'kiwi', 'mango']\n"
     ]
    }
   ],
   "source": [
    "\n",
    "# Remove Duplicates from a List\n",
    "l=[\"apple\",\"orange\",\"banana\",\"apple\",\"kiwi\",\"mango\",\"kiwi\"]\n",
    "list_unique = []\n",
    "for item in l:\n",
    "    if item not in list_unique:\n",
    "        list_unique.append(item)\n",
    "        \n",
    "print(list_unique)"
   ]
  },
  {
   "cell_type": "code",
   "execution_count": 36,
   "id": "d4ab22c8-a061-4a94-9351-54f0ed04e197",
   "metadata": {},
   "outputs": [
    {
     "name": "stdin",
     "output_type": "stream",
     "text": [
      "Enter your mutiplication number: 8\n"
     ]
    },
    {
     "name": "stdout",
     "output_type": "stream",
     "text": [
      "0 * 8 = 0\n",
      "1 * 8 = 8\n",
      "2 * 8 = 16\n",
      "3 * 8 = 24\n",
      "4 * 8 = 32\n",
      "5 * 8 = 40\n",
      "6 * 8 = 48\n",
      "7 * 8 = 56\n",
      "8 * 8 = 64\n",
      "9 * 8 = 72\n",
      "10 * 8 = 80\n"
     ]
    }
   ],
   "source": [
    "# Generate Multiplication Table\n",
    "n=int(input(\"Enter your mutiplication number:\"))\n",
    "for i in range(0,11):\n",
    "      print(i, \"*\", n, \"=\", i * n)"
   ]
  },
  {
   "cell_type": "code",
   "execution_count": 20,
   "id": "70581aa6-1c87-446b-b399-076bab8d7707",
   "metadata": {},
   "outputs": [
    {
     "name": "stdin",
     "output_type": "stream",
     "text": [
      "enter the first number: 89\n",
      "enter the second number: 90\n",
      "enter the third number: 60\n"
     ]
    },
    {
     "name": "stdout",
     "output_type": "stream",
     "text": [
      "the output of n: 90\n"
     ]
    }
   ],
   "source": [
    "#Find the Largest of Three Numbers\n",
    "n1=int(input(\"enter the first number:\"))\n",
    "n2=int(input(\"enter the second number:\"))\n",
    "n3=int(input(\"enter the third number:\"))\n",
    "l=max(n1,n2,n3)\n",
    "print(\"the output of n:\",l)"
   ]
  },
  {
   "cell_type": "code",
   "execution_count": 21,
   "id": "f1b02ef2-fe93-49ec-b88b-dfa96f01fa24",
   "metadata": {},
   "outputs": [
    {
     "name": "stdin",
     "output_type": "stream",
     "text": [
      "Enter a string:  raja\n"
     ]
    },
    {
     "name": "stdout",
     "output_type": "stream",
     "text": [
      "Reversed string: ajar\n"
     ]
    }
   ],
   "source": [
    "# Reverse a String\n",
    "text = input(\"Enter a string: \")\n",
    "reversed_string = text[::-1]      \n",
    "print(\"Reversed string:\", reversed_string)\n"
   ]
  },
  {
   "cell_type": "code",
   "execution_count": 22,
   "id": "7b53bc18-0410-4097-adab-62da0d1a0833",
   "metadata": {},
   "outputs": [
    {
     "name": "stdout",
     "output_type": "stream",
     "text": [
      "Common elements are: ['orange', 'kiwi']\n"
     ]
    }
   ],
   "source": [
    "# Find Common Elements Between Two Lists\n",
    "l=[\"apple\",\"orange\",\"banana\",\"apple\",\"kiwi\",\"mango\",\"apple\"]\n",
    "l1=[\"orange\",\"pineapple\",\"kiwi\",\"strawberry\",\"orange\",\"grapes\"]\n",
    "common_elements=[]\n",
    "for item in l:\n",
    "    if item in l1 and item not in common_elements:\n",
    "        common_elements.append(item)\n",
    "\n",
    "print(\"Common elements are:\", common_elements)"
   ]
  },
  {
   "cell_type": "code",
   "execution_count": 37,
   "id": "cff53bf1-12ed-470f-aff8-a284263a97e6",
   "metadata": {},
   "outputs": [
    {
     "name": "stdout",
     "output_type": "stream",
     "text": [
      "Sum: 150\n"
     ]
    }
   ],
   "source": [
    "#sum of all elements in list \n",
    "numbers = [10, 20, 30, 40, 50]\n",
    "total = sum(numbers)\n",
    "print(\"Sum:\", total)\n"
   ]
  },
  {
   "cell_type": "code",
   "execution_count": 28,
   "id": "0bcb97a8-6e99-4c88-bb04-2bc46e1d0b3d",
   "metadata": {},
   "outputs": [
    {
     "name": "stdout",
     "output_type": "stream",
     "text": [
      "Flattened list: [1, 2, 3, 4, 5]\n"
     ]
    }
   ],
   "source": [
    "nested = [[1, 2], [3, 4], [5]]\n",
    "list1 = []\n",
    "\n",
    "for sublist in nested: \n",
    "    for item in sublist:\n",
    "        list1.append(item)  \n",
    "\n",
    "print(\"Flattened list:\", list1)\n"
   ]
  },
  {
   "cell_type": "code",
   "execution_count": 38,
   "id": "a696030a-403c-42b1-b3e0-70e2a15e16b4",
   "metadata": {},
   "outputs": [
    {
     "name": "stdout",
     "output_type": "stream",
     "text": [
      "[121, 88, 111]\n"
     ]
    }
   ],
   "source": [
    "#Find All Numbers That Are Palindromes in List\n",
    "numbers = [121, 133, 123, 88, 97,111]\n",
    "palindromes = [n for n in numbers if str(n) == str(n)[::-1]]\n",
    "print(palindromes)"
   ]
  },
  {
   "cell_type": "code",
   "execution_count": 31,
   "id": "37996b94-b847-49b9-9a0f-8323f0db4643",
   "metadata": {},
   "outputs": [
    {
     "name": "stdin",
     "output_type": "stream",
     "text": [
      "Enter a decimal number:  8\n"
     ]
    },
    {
     "name": "stdout",
     "output_type": "stream",
     "text": [
      "Binary: 1000\n"
     ]
    }
   ],
   "source": [
    "decimal_number = int(input(\"Enter a decimal number: \"))#doubt \n",
    "binary_number = bin(decimal_number)  # returns a string like '0b1010'\n",
    "print(\"Binary:\", binary_number[2::])  # slice off the '0b' prefix\n"
   ]
  },
  {
   "cell_type": "code",
   "execution_count": 26,
   "id": "7ddaad7f-9330-47b2-959c-a09b9d127721",
   "metadata": {},
   "outputs": [
    {
     "name": "stdout",
     "output_type": "stream",
     "text": [
      "[6, 12, 17, 22, 78, 79, 90, 100]\n"
     ]
    }
   ],
   "source": [
    "# Merge and Sort Two Lists\n",
    "l=[22,6,79,90,12]\n",
    "l1=[78,17,100]\n",
    "list2= l+l1\n",
    "list2.sort()\n",
    "print(list2)\n",
    "    "
   ]
  },
  {
   "cell_type": "code",
   "execution_count": 40,
   "id": "8c960611-d777-40ff-876b-4841d0fc2505",
   "metadata": {},
   "outputs": [
    {
     "name": "stdout",
     "output_type": "stream",
     "text": [
      "length of list : 7\n"
     ]
    }
   ],
   "source": [
    "# Find the Length of a List Without Using len()\n",
    "l=[12,22,45,67,89,90,77]\n",
    "count= 0\n",
    "for i in l:\n",
    "    count += 1\n",
    "print(\"length of list :\",count)"
   ]
  },
  {
   "cell_type": "code",
   "execution_count": 42,
   "id": "bbc5169e-a6eb-44e0-9cd6-e7340ff7703d",
   "metadata": {},
   "outputs": [
    {
     "data": {
      "text/plain": [
       "'9911223344'"
      ]
     },
     "execution_count": 42,
     "metadata": {},
     "output_type": "execute_result"
    }
   ],
   "source": [
    "# Simple Contact Book (Dict based)\n",
    "mydict={\"Ravi\": \"9876543210\", \"Anu\": \"9911223344\"}  \n",
    "mydict[\"Anu\"]"
   ]
  },
  {
   "cell_type": "code",
   "execution_count": 43,
   "id": "8c882a97-cc33-4b7c-b6b4-b9367ceb76b9",
   "metadata": {},
   "outputs": [
    {
     "name": "stdin",
     "output_type": "stream",
     "text": [
      "Enter the value: 100\n"
     ]
    },
    {
     "name": "stdout",
     "output_type": "stream",
     "text": [
      "positive\n"
     ]
    }
   ],
   "source": [
    "# Check Positive, Negative, or Zero\n",
    "i=int(input(\"Enter the value:\"))\n",
    "if i<0:\n",
    "    print(\"Negative\")\n",
    "elif i>0:\n",
    "    print(\"positive\")\n",
    "else:\n",
    "    print(\"zero\")"
   ]
  },
  {
   "cell_type": "code",
   "execution_count": 46,
   "id": "891ebda7-37d6-4758-beb6-5c603b803259",
   "metadata": {},
   "outputs": [
    {
     "name": "stdout",
     "output_type": "stream",
     "text": [
      "False\n"
     ]
    }
   ],
   "source": [
    "#Check if All Characters in String are Unique\n",
    "str1=[\"orange\",\"pineapple\",\"kiwi\",\"strawberry\",\"grapes\",\"kiwi\"]\n",
    "if (len(str1) == len(set(str1))):\n",
    "    print(True)  \n",
    "else:\n",
    "    print(False)"
   ]
  },
  {
   "cell_type": "code",
   "execution_count": 10,
   "id": "9ac26070-a33e-4aac-b84e-904fdfce841b",
   "metadata": {},
   "outputs": [
    {
     "name": "stdin",
     "output_type": "stream",
     "text": [
      " \"hello everyone, welcome to my world\"\n"
     ]
    },
    {
     "name": "stdout",
     "output_type": "stream",
     "text": [
      "hello everyone welcome to my world\n"
     ]
    }
   ],
   "source": [
    "#Remove Punctuation from a String\n",
    "import string\n",
    "text = str(input())\n",
    "punct = text.translate(str.maketrans('', '', string.punctuation))#transaction using to remove the punctutation\n",
    "print(punct)\n"
   ]
  },
  {
   "cell_type": "code",
   "execution_count": 9,
   "id": "96fb5e99-705e-4b34-99ca-19ef6a36615e",
   "metadata": {},
   "outputs": [
    {
     "name": "stdin",
     "output_type": "stream",
     "text": [
      " apple,banana,civic\n"
     ]
    },
    {
     "name": "stdout",
     "output_type": "stream",
     "text": [
      "it is not palindrome\n"
     ]
    }
   ],
   "source": [
    "# Check if List is Palindrome\n",
    "my_list=str(input())\n",
    "if my_list == my_list[::-1]:\n",
    "     print(\"it is palindrome\")\n",
    "else:\n",
    "     print(\"it is not palindrome\")\n"
   ]
  },
  {
   "cell_type": "code",
   "execution_count": 4,
   "id": "bf7c222d-f00d-40cf-ac94-0e0de96ffabc",
   "metadata": {},
   "outputs": [
    {
     "name": "stdin",
     "output_type": "stream",
     "text": [
      " \"python is fantastic and powerful\"\n"
     ]
    },
    {
     "name": "stdout",
     "output_type": "stream",
     "text": [
      "longest_word: fantastic\n"
     ]
    }
   ],
   "source": [
    "#Find Longest Word in Sentence\n",
    "word=str(input())  \n",
    "w1=word.split()\n",
    "longest_word=max(w1, key=len)\n",
    "print(\"longest_word:\",longest_word)"
   ]
  },
  {
   "cell_type": "code",
   "execution_count": 54,
   "id": "f6aca4d4-ae8e-408e-8108-ac4a84977ef8",
   "metadata": {},
   "outputs": [
    {
     "name": "stdin",
     "output_type": "stream",
     "text": [
      "Enter the radius of the circle:  7.8\n"
     ]
    },
    {
     "name": "stdout",
     "output_type": "stream",
     "text": [
      "The area of the circle with radius 7.8 is: 191.13\n"
     ]
    }
   ],
   "source": [
    "# Calculate the Area of a Circle\n",
    "import math\n",
    "radius = float(input(\"Enter the radius of the circle: \"))\n",
    "area = math.pi*(radius**2)\n",
    "print(f\"The area of the circle with radius {radius} is: {area:.2f}\")#formats the number in area to display \n",
    "#with 2 decimal places in the output string."
   ]
  },
  {
   "cell_type": "code",
   "execution_count": 48,
   "id": "edd4a9f3-70db-4206-9742-85ac5068d63c",
   "metadata": {},
   "outputs": [
    {
     "name": "stdout",
     "output_type": "stream",
     "text": [
      "['A', 'F', 'B', 'A', 'C']\n"
     ]
    }
   ],
   "source": [
    "# Marks to Grade Conversion for N Students\n",
    "marks = [85, 40, 77, 92, 60]\n",
    "grades = []\n",
    "for mark in marks:\n",
    "    if mark >= 85:\n",
    "        grades.append('A')\n",
    "    elif mark >= 70:\n",
    "        grades.append('B')\n",
    "    elif mark >= 60:\n",
    "        grades.append('C')\n",
    "    elif mark >= 50:\n",
    "        grades.append('D')\n",
    "    else:\n",
    "        grades.append('F')\n",
    "print(grades)\n"
   ]
  },
  {
   "cell_type": "code",
   "execution_count": 52,
   "id": "a90d275e-c3ff-46ad-8842-3a83a43e5de2",
   "metadata": {},
   "outputs": [
    {
     "name": "stdin",
     "output_type": "stream",
     "text": [
      "Enter PAN:  ABCDE1234S\n"
     ]
    },
    {
     "name": "stdout",
     "output_type": "stream",
     "text": [
      "Valid PAN\n"
     ]
    }
   ],
   "source": [
    "#Format: 5 uppercase letters + 4 digits + 1 uppercase letter\n",
    "import re                   #regular expression used for pattern matching\n",
    "pan = input(\"Enter PAN: \")\n",
    "pattern = r'^[A-Z]{5}[0-9]{4}[A-Z]$'\n",
    "if re.match(pattern, pan):\n",
    "    print(\"Valid PAN\")\n",
    "else:\n",
    "    print(\"Invalid PAN\")\n"
   ]
  },
  {
   "cell_type": "code",
   "execution_count": 50,
   "id": "36cce688-64bd-46a5-b501-715ab673e45a",
   "metadata": {},
   "outputs": [
    {
     "name": "stdout",
     "output_type": "stream",
     "text": [
      "Counter({'apple': 3, 'banana': 2, 'orange': 1})\n"
     ]
    }
   ],
   "source": [
    "# Count the Frequency of Elements in a List\n",
    "from collections import Counter\n",
    "my_list = ['apple', 'banana', 'apple', 'orange', 'banana', 'apple']\n",
    "frequency = Counter(my_list)\n",
    "print(frequency)"
   ]
  },
  {
   "cell_type": "code",
   "execution_count": 18,
   "id": "dfea2183-eba6-4165-a30f-556312d6c995",
   "metadata": {},
   "outputs": [
    {
     "name": "stdout",
     "output_type": "stream",
     "text": [
      "********\n"
     ]
    }
   ],
   "source": [
    "#Password Masker\n",
    "def safe_password(password):\n",
    "    return '*' * len(password)\n",
    "input_password = \"mysecret\"\n",
    "masked = safe_password(input_password)\n",
    "print(masked)\n"
   ]
  },
  {
   "cell_type": "code",
   "execution_count": 23,
   "id": "cf5a9540-cdf5-42aa-a306-ecc1f9f789e3",
   "metadata": {},
   "outputs": [
    {
     "name": "stdin",
     "output_type": "stream",
     "text": [
      "Enter base:  7\n",
      "Enter exponent:  3\n"
     ]
    },
    {
     "name": "stdout",
     "output_type": "stream",
     "text": [
      "343\n"
     ]
    }
   ],
   "source": [
    "# Calculate Power Without Using Power Operator\n",
    "def power(base, exp):\n",
    "    res = 1\n",
    "    for _ in range(abs(exp)):\n",
    "        res *= base\n",
    "    return res if exp >= 0 else 1 / res\n",
    "base = int(input(\"Enter base: \"))\n",
    "exp = int(input(\"Enter exponent: \"))\n",
    "print(power(base,exp))"
   ]
  },
  {
   "cell_type": "code",
   "execution_count": 3,
   "id": "d8290654-1d65-4313-81b8-de7ec16301e1",
   "metadata": {},
   "outputs": [
    {
     "name": "stdout",
     "output_type": "stream",
     "text": [
      "false\n"
     ]
    }
   ],
   "source": [
    "str1=\"racecar\"\n",
    "str2=\"carace\"\n",
    "if (sorted(str1)== sorted(str2)):\n",
    "    print(\"true\")\n",
    "else:\n",
    "    print(\"false\")\n",
    "    \n",
    "  "
   ]
  },
  {
   "cell_type": "code",
   "execution_count": 11,
   "id": "1488bfd1-28a6-4d3f-b0b2-f0036e8611c2",
   "metadata": {},
   "outputs": [
    {
     "name": "stdout",
     "output_type": "stream",
     "text": [
      "False\n"
     ]
    }
   ],
   "source": [
    "text=\"mother\"\n",
    "print(text == text[::-1])\n"
   ]
  },
  {
   "cell_type": "code",
   "execution_count": 14,
   "id": "41906438-dac0-41ce-b86f-2dccf9978c68",
   "metadata": {},
   "outputs": [
    {
     "name": "stdin",
     "output_type": "stream",
     "text": [
      "Enter the values: 22\n"
     ]
    },
    {
     "name": "stdout",
     "output_type": "stream",
     "text": [
      "Even\n"
     ]
    }
   ],
   "source": [
    "n=int(input(\"Enter the values:\"))\n",
    "if n%2==0:\n",
    "    print(\"Even\")\n",
    "\n",
    "else:\n",
    "    print(\"Odd\")"
   ]
  },
  {
   "cell_type": "code",
   "execution_count": 16,
   "id": "592bee1a-d385-4aa6-8fb7-864881d4c592",
   "metadata": {},
   "outputs": [
    {
     "data": {
      "text/plain": [
       "'urugan'"
      ]
     },
     "execution_count": 16,
     "metadata": {},
     "output_type": "execute_result"
    }
   ],
   "source": [
    "text=\"murugan\"\n",
    "text[1::]"
   ]
  },
  {
   "cell_type": "code",
   "execution_count": 24,
   "id": "dadd52c8-6fa7-4c09-8e49-77ed820cc481",
   "metadata": {},
   "outputs": [
    {
     "name": "stdout",
     "output_type": "stream",
     "text": [
      "count of vowels: 5\n"
     ]
    }
   ],
   "source": [
    "txt=\"father and mother\"\n",
    "vowels= \"aeiouAEIOU\"\n",
    "count=0\n",
    "for chr in txt:\n",
    "    if chr in vowels:\n",
    "        count=count+1\n",
    "        \n",
    "print(\"count of vowels:\",count)"
   ]
  }
 ],
 "metadata": {
  "kernelspec": {
   "display_name": "Python [conda env:base] *",
   "language": "python",
   "name": "conda-base-py"
  },
  "language_info": {
   "codemirror_mode": {
    "name": "ipython",
    "version": 3
   },
   "file_extension": ".py",
   "mimetype": "text/x-python",
   "name": "python",
   "nbconvert_exporter": "python",
   "pygments_lexer": "ipython3",
   "version": "3.13.5"
  }
 },
 "nbformat": 4,
 "nbformat_minor": 5
}
