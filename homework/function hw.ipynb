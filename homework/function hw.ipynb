{
 "cells": [
  {
   "cell_type": "code",
   "execution_count": 17,
   "id": "e39d2288-506f-4e4d-9cc6-b98a1f5858c8",
   "metadata": {},
   "outputs": [
    {
     "name": "stdout",
     "output_type": "stream",
     "text": [
      "15\n",
      "-3\n",
      "18\n"
     ]
    }
   ],
   "source": [
    "def add(a,b):\n",
    "    c=a+b\n",
    "    return c\n",
    "k=add(6,9)\n",
    "print(k)\n",
    "def sub(a,b):\n",
    "    c=a-b\n",
    "    return c\n",
    "k1=sub(6,9)\n",
    "print(k1)\n",
    "print(k-k1)"
   ]
  },
  {
   "cell_type": "code",
   "execution_count": 2,
   "id": "2db6d233-ad6e-4d54-80e4-47887a1fdca9",
   "metadata": {},
   "outputs": [
    {
     "name": "stdout",
     "output_type": "stream",
     "text": [
      "1.add\n",
      "2.sub\n",
      "3.multiply\n",
      "4.divide\n"
     ]
    },
    {
     "name": "stdin",
     "output_type": "stream",
     "text": [
      "Enter the your choice 5\n",
      "Enter the first number 6\n",
      "Enter the second number 1\n"
     ]
    },
    {
     "name": "stdout",
     "output_type": "stream",
     "text": [
      "Invalid input\n"
     ]
    }
   ],
   "source": [
    "def add(x,y):\n",
    "   return x+y\n",
    "def sub(x,y):\n",
    "   return x-y\n",
    "def multiply(x,y):\n",
    "    return x*y\n",
    "def divide(x,y):\n",
    "    return x/y\n",
    "print(\"1.add\")\n",
    "print(\"2.sub\")\n",
    "print(\"3.multiply\")\n",
    "print(\"4.divide\")\n",
    "try:\n",
    "   k=int(input(\"Enter the your choice\"))\n",
    "   x=int(input(\"Enter the first number\"))\n",
    "   y=int(input(\"Enter the second number\"))\n",
    "   if k==1:\n",
    "       print(x,\"+\",y,\"=\",add(x,y))\n",
    "   elif k==2:\n",
    "       print(x,\"-\",y,\"=\",sub(x,y))\n",
    "   elif k==3:\n",
    "       print(x,\"*\",y,\"=\",multiply(x,y))\n",
    "   elif k==4:\n",
    "       print(x,\"/\",y,\"=\",divide(x,y))\n",
    "   else:\n",
    "       print(\"Invalid input\")\n",
    "except ValueError:\n",
    "    print(\"Value error\")\n",
    "except ZeroDivisionError:\n",
    "    print(\"zerodivisionerror\")\n",
    "except Exception as e:\n",
    "    print(\"an error occured\")"
   ]
  },
  {
   "cell_type": "code",
   "execution_count": null,
   "id": "b5298512-9bda-4ced-b554-29142b2bc9de",
   "metadata": {},
   "outputs": [],
   "source": [
    "\n"
   ]
  },
  {
   "cell_type": "code",
   "execution_count": null,
   "id": "9376a7e3-6d3a-4282-bc92-1b5fdf36b62a",
   "metadata": {},
   "outputs": [],
   "source": []
  }
 ],
 "metadata": {
  "kernelspec": {
   "display_name": "Python [conda env:base] *",
   "language": "python",
   "name": "conda-base-py"
  },
  "language_info": {
   "codemirror_mode": {
    "name": "ipython",
    "version": 3
   },
   "file_extension": ".py",
   "mimetype": "text/x-python",
   "name": "python",
   "nbconvert_exporter": "python",
   "pygments_lexer": "ipython3",
   "version": "3.12.7"
  }
 },
 "nbformat": 4,
 "nbformat_minor": 5
}
