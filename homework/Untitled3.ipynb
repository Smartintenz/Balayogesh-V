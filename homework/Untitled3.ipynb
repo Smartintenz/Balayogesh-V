{
 "cells": [
  {
   "cell_type": "code",
   "execution_count": null,
   "id": "36e6f4d8-5cb4-481b-a4da-645122a7c389",
   "metadata": {},
   "outputs": [],
   "source": [
    "#28.Check if All Characters in String are Unique\n",
    "str2=input()\n",
    "if(len(str2)==len(set(str2))):\n",
    "    print(True)\n",
    "else:\n",
    "    print(False)"
   ]
  },
  {
   "cell_type": "code",
   "execution_count": null,
   "id": "abdd88be-f20c-469b-896f-f4711c2e2564",
   "metadata": {},
   "outputs": [],
   "source": []
  }
 ],
 "metadata": {
  "kernelspec": {
   "display_name": "Python [conda env:base] *",
   "language": "python",
   "name": "conda-base-py"
  },
  "language_info": {
   "codemirror_mode": {
    "name": "ipython",
    "version": 3
   },
   "file_extension": ".py",
   "mimetype": "text/x-python",
   "name": "python",
   "nbconvert_exporter": "python",
   "pygments_lexer": "ipython3",
   "version": "3.13.5"
  }
 },
 "nbformat": 4,
 "nbformat_minor": 5
}
