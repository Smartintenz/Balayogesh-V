{
 "cells": [
  {
   "cell_type": "code",
   "execution_count": 4,
   "id": "5cb192bf-3b8b-4677-84c4-edbad0362367",
   "metadata": {},
   "outputs": [
    {
     "name": "stdout",
     "output_type": "stream",
     "text": [
      "iam fine\n"
     ]
    }
   ],
   "source": [
    "#single inheritance\n",
    "class grandparent:\n",
    "    def hlo(self):\n",
    "        print(\"how re you\")\n",
    "\n",
    "class parent(grandparent):\n",
    "    def hi(rect):\n",
    "        print(\"iam fine\")\n",
    "\n",
    "obj1=parent()\n",
    "obj1.hi()"
   ]
  },
  {
   "cell_type": "code",
   "execution_count": 7,
   "id": "f7b67b2c-ea86-490b-bae1-4531b5cf050f",
   "metadata": {},
   "outputs": [
    {
     "name": "stdout",
     "output_type": "stream",
     "text": [
      "lorry\n"
     ]
    }
   ],
   "source": [
    "#multilevel inheritance\n",
    "class heavyvehicle:\n",
    "    def self(hlo):\n",
    "        print(\"lorry\")\n",
    "\n",
    "class vehicle(heavyvehicle):\n",
    "    def heat(bot):\n",
    "        print(\"bus\")\n",
    "\n",
    "class twowheeler(vehicle):\n",
    "    def heavy(hot):\n",
    "        print(\"bike\")\n",
    "\n",
    "class pollution(twowheeler):\n",
    "    def lot(self):\n",
    "        print(\"heavily polluted by air\")\n",
    "\n",
    "obj=pollution()\n",
    "obj.self()"
   ]
  },
  {
   "cell_type": "code",
   "execution_count": 25,
   "id": "8fbc90be-1a49-483e-a2ab-d2370b0b31d7",
   "metadata": {},
   "outputs": [
    {
     "name": "stdout",
     "output_type": "stream",
     "text": [
      "hibiscous\n"
     ]
    }
   ],
   "source": [
    "#multiple inheritance\n",
    "class parent:\n",
    "    def __init__(self,plant,trees,flowers,grass):\n",
    "        self.plant=plant\n",
    "        self.trees=trees\n",
    "        self.flower=flowers\n",
    "        self.grass=grass\n",
    "    def detail(self):\n",
    "        print(self.plant)\n",
    "\n",
    "class child:\n",
    "    def s1(self):\n",
    "        print(self.trees)\n",
    "\n",
    "class child1:\n",
    "    def s2(self):\n",
    "        print(self.flower)\n",
    "\n",
    "class child2:\n",
    "     def s3(self):\n",
    "         print(self.grass)\n",
    "\n",
    "class child4(parent,child,child1,child2):\n",
    "      def s4(self):\n",
    "          print(s1)\n",
    "\n",
    "p2=child4(\"hibiscous\",\"palm tree\",\"lotus\",\"green\")\n",
    "p2.detail()\n",
    "\n",
    "        "
   ]
  },
  {
   "cell_type": "code",
   "execution_count": 38,
   "id": "95da6fbd-6824-4023-964a-14d62fc97d6a",
   "metadata": {},
   "outputs": [
    {
     "name": "stdout",
     "output_type": "stream",
     "text": [
      "second son\n",
      "third son\n"
     ]
    }
   ],
   "source": [
    "#hierachical inheritance\n",
    "class parent:\n",
    "    def show(self):\n",
    "        print(\"mother\")\n",
    "\n",
    "class child:\n",
    "     pass\n",
    "\n",
    "class child2:\n",
    "    def show(parent):\n",
    "        print(\"second son\")\n",
    "\n",
    "class child3:\n",
    "    def show(parent):\n",
    "        print(\"third son\")\n",
    "\n",
    "\n",
    "obj2=child2()\n",
    "obj3=child3()\n",
    "obj2.show()\n",
    "obj3.show()\n"
   ]
  },
  {
   "cell_type": "code",
   "execution_count": 1,
   "id": "17183b45-f0e8-4448-987d-70f4ae60dde5",
   "metadata": {},
   "outputs": [
    {
     "name": "stdout",
     "output_type": "stream",
     "text": [
      "I am an animal.\n"
     ]
    }
   ],
   "source": [
    "#hybrid inheritance\n",
    "class Animal:\n",
    "    def feature(self):\n",
    "        print(\"I am an animal.\")\n",
    "\n",
    "class Mammal(Animal):\n",
    "    def feature_mammal(self):\n",
    "        print(\"I am a mammal\")\n",
    "\n",
    "class Bird(Animal):\n",
    "    def feature_bird(self):\n",
    "        print(\"I am a bird\")\n",
    "\n",
    "class Bat(Mammal,Bird):\n",
    "    def feature_bat(self):\n",
    "        print(\"I am a bat\")\n",
    "\n",
    "object2 = Bat()\n",
    "object2.feature()"
   ]
  },
  {
   "cell_type": "code",
   "execution_count": null,
   "id": "16e73774-ed23-4f45-b6b5-fd3b4e9ad298",
   "metadata": {},
   "outputs": [],
   "source": []
  }
 ],
 "metadata": {
  "kernelspec": {
   "display_name": "Python [conda env:base] *",
   "language": "python",
   "name": "conda-base-py"
  },
  "language_info": {
   "codemirror_mode": {
    "name": "ipython",
    "version": 3
   },
   "file_extension": ".py",
   "mimetype": "text/x-python",
   "name": "python",
   "nbconvert_exporter": "python",
   "pygments_lexer": "ipython3",
   "version": "3.13.5"
  }
 },
 "nbformat": 4,
 "nbformat_minor": 5
}
