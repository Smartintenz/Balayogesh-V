{
 "cells": [
  {
   "cell_type": "code",
   "execution_count": 4,
   "id": "b0cf3306-c429-40a4-a8c7-17428f0d98a6",
   "metadata": {},
   "outputs": [
    {
     "name": "stdin",
     "output_type": "stream",
     "text": [
      "Enter ur choice player1: paper\n",
      "Enter ur choice player2: paper\n"
     ]
    },
    {
     "name": "stdout",
     "output_type": "stream",
     "text": [
      "Both are tie\n",
      "scissors paper stone\n"
     ]
    }
   ],
   "source": [
    "player1= input(\"Enter ur choice player1:\")\n",
    "player2= input(\"Enter ur choice player2:\")\n",
    "if player1==player2:\n",
    "   print(\"Both are tie\")\n",
    "elif (player1==\"scissors\" and player2==\"paper\")or \\\n",
    "      (player1==\"stone\" and player2==\"scissors\")or\\\n",
    "      (player1==\"paper\" and player2==\"stone\"):\n",
    "       print(\"player1 is win!\")\n",
    "elif (player2==\"scissors\" and player1==\"paper\")or\\\n",
    "      (player2==\"stone\" and player1==\"scissors\")or\\\n",
    "      (player2==\"paper\" and player1==\"stone\"):\n",
    "        print(\"player2 is win!\")\n",
    "else:\n",
    "      print(\"Invalid input\")\n",
    "\n",
    "\n",
    "    "
   ]
  },
  {
   "cell_type": "code",
   "execution_count": null,
   "id": "76cabc8c-ebf5-4eb8-82aa-23c894a18cf6",
   "metadata": {},
   "outputs": [],
   "source": []
  }
 ],
 "metadata": {
  "kernelspec": {
   "display_name": "Python [conda env:base] *",
   "language": "python",
   "name": "conda-base-py"
  },
  "language_info": {
   "codemirror_mode": {
    "name": "ipython",
    "version": 3
   },
   "file_extension": ".py",
   "mimetype": "text/x-python",
   "name": "python",
   "nbconvert_exporter": "python",
   "pygments_lexer": "ipython3",
   "version": "3.13.5"
  }
 },
 "nbformat": 4,
 "nbformat_minor": 5
}
