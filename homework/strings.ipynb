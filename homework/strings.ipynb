{
 "cells": [
  {
   "cell_type": "code",
   "execution_count": 7,
   "id": "50516d61-a9bb-44f0-98d1-e5f50ef9e653",
   "metadata": {},
   "outputs": [
    {
     "name": "stdout",
     "output_type": "stream",
     "text": [
      "WELCOME TO THE 3RD BCA CLASS\n",
      "welcome to the 3rd Bca class\n",
      "welcome to the 3rd Bca department\n"
     ]
    }
   ],
   "source": [
    "k=\"welcome to the 3rd Bca class\"\n",
    "print(k.upper())\n",
    "print(k)\n",
    "print(k.replace(\"class\", \"department\"))"
   ]
  },
  {
   "cell_type": "code",
   "execution_count": 5,
   "id": "b6c89163-92ff-48e5-a7ff-29fcb9b4c25c",
   "metadata": {},
   "outputs": [
    {
     "name": "stdout",
     "output_type": "stream",
     "text": [
      "learn all the things and gain more knowledge\n"
     ]
    }
   ],
   "source": [
    "k=\"Learn all the things and gain more knowledge\"\n",
    "y=k.casefold()\n",
    "print(y)"
   ]
  },
  {
   "cell_type": "code",
   "execution_count": 2,
   "id": "baf07d80-945a-48bb-8f5b-79b1a898bc5a",
   "metadata": {},
   "outputs": [
    {
     "name": "stdout",
     "output_type": "stream",
     "text": [
      "1\n"
     ]
    }
   ],
   "source": [
    "k=\"welcome to the 3rd Bca class\"\n",
    "print(k.count(\"to the\"))"
   ]
  },
  {
   "cell_type": "code",
   "execution_count": 29,
   "id": "fe9f1438-3b97-42a2-98d8-74281b78caed",
   "metadata": {},
   "outputs": [
    {
     "name": "stdout",
     "output_type": "stream",
     "text": [
      "5\n"
     ]
    }
   ],
   "source": [
    "text=\"welcome to my world\"\n",
    "y= text.index(\"m\")\n",
    "print(y)"
   ]
  },
  {
   "cell_type": "code",
   "execution_count": 32,
   "id": "9204379f-7351-4651-99cb-dd958f791df7",
   "metadata": {},
   "outputs": [
    {
     "name": "stdout",
     "output_type": "stream",
     "text": [
      "lEARN ALL THE THINGS AND GAIN MORE KNOWLEDGE\n"
     ]
    }
   ],
   "source": [
    "k=\"Learn all the things and gain more knowledge\"\n",
    "x=k.swapcase()\n",
    "print(x)"
   ]
  },
  {
   "cell_type": "code",
   "execution_count": 36,
   "id": "24c65c53-a7ab-402c-ae58-1b23f651ce89",
   "metadata": {},
   "outputs": [
    {
     "name": "stdout",
     "output_type": "stream",
     "text": [
      "True False\n"
     ]
    }
   ],
   "source": [
    "k=\"Learn all the things and gain more knowledge\"\n",
    "x=k.startswith(\"L\")\n",
    "y=k.endswith(\"s\")\n",
    "print(x,y)\n"
   ]
  },
  {
   "cell_type": "code",
   "execution_count": 42,
   "id": "815ec1cf-f235-4ae0-acec-6e8f16d9e6bf",
   "metadata": {},
   "outputs": [
    {
     "name": "stdout",
     "output_type": "stream",
     "text": [
      "the book is 50 rupee!\n"
     ]
    }
   ],
   "source": [
    "txt=\"the book is {prize} rupee!\"\n",
    "print(txt.format(prize =50))\n"
   ]
  },
  {
   "cell_type": "code",
   "execution_count": 50,
   "id": "810f32c8-da44-471c-a5fe-ed2aed3e756e",
   "metadata": {},
   "outputs": [
    {
     "name": "stdout",
     "output_type": "stream",
     "text": [
      "w\telc\tom\te t\to m\ty wo\tr\tld\n",
      "w elc om  e t o m y wo  r ld\n"
     ]
    }
   ],
   "source": [
    "text=\"w\\telc\\tom\\te t\\to m\\ty wo\\tr\\tld\"\n",
    "print(text)\n",
    "print(text.expandtabs(2))\n",
    "\n"
   ]
  },
  {
   "cell_type": "code",
   "execution_count": 52,
   "id": "eb1d671b-337e-4d3a-bdcd-fb986d4d2260",
   "metadata": {},
   "outputs": [
    {
     "name": "stdout",
     "output_type": "stream",
     "text": [
      "('hello ', 'everyone', ' one and all gather here')\n"
     ]
    }
   ],
   "source": [
    "text=\"hello everyone one and all gather here\"\n",
    "print(text.partition(\"everyone\"))"
   ]
  },
  {
   "cell_type": "code",
   "execution_count": null,
   "id": "1f790c8c-c8bd-41c1-981e-7ca3a7458a37",
   "metadata": {},
   "outputs": [],
   "source": []
  }
 ],
 "metadata": {
  "kernelspec": {
   "display_name": "Python [conda env:base] *",
   "language": "python",
   "name": "conda-base-py"
  },
  "language_info": {
   "codemirror_mode": {
    "name": "ipython",
    "version": 3
   },
   "file_extension": ".py",
   "mimetype": "text/x-python",
   "name": "python",
   "nbconvert_exporter": "python",
   "pygments_lexer": "ipython3",
   "version": "3.12.7"
  }
 },
 "nbformat": 4,
 "nbformat_minor": 5
}
