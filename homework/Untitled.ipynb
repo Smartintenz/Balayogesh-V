{
 "cells": [
  {
   "cell_type": "code",
   "execution_count": 2,
   "id": "d1de59b6-77d9-453e-9a00-dd04550dcf49",
   "metadata": {},
   "outputs": [
    {
     "name": "stdout",
     "output_type": "stream",
     "text": [
      "Hello Everyone\n"
     ]
    }
   ],
   "source": [
    "print(\"Hello Everyone\")"
   ]
  },
  {
   "cell_type": "code",
   "execution_count": 3,
   "id": "c4b15b86-5d4a-4729-8dce-df2be273eedc",
   "metadata": {},
   "outputs": [
    {
     "name": "stdout",
     "output_type": "stream",
     "text": [
      "python class\n"
     ]
    }
   ],
   "source": [
    "print(\"python class\")"
   ]
  },
  {
   "cell_type": "code",
   "execution_count": 4,
   "id": "7baf777f-1191-4ae0-af36-0216c868a704",
   "metadata": {},
   "outputs": [
    {
     "name": "stdout",
     "output_type": "stream",
     "text": [
      "iam Bala\n"
     ]
    }
   ],
   "source": [
    "print(\"iam Bala\")"
   ]
  },
  {
   "cell_type": "code",
   "execution_count": 5,
   "id": "ac266909-d7a8-46b7-948f-aa0cb998167d",
   "metadata": {},
   "outputs": [
    {
     "name": "stdout",
     "output_type": "stream",
     "text": [
      "Hi Good morning\n"
     ]
    }
   ],
   "source": [
    "print(\"Hi Good morning\")"
   ]
  },
  {
   "cell_type": "code",
   "execution_count": 7,
   "id": "1ebde733-5891-4cf6-ad29-92b10d59fc04",
   "metadata": {},
   "outputs": [
    {
     "name": "stdout",
     "output_type": "stream",
     "text": [
      "Hello how are you \n"
     ]
    }
   ],
   "source": [
    "print(\"Hello\",\"how are you \")"
   ]
  },
  {
   "cell_type": "code",
   "execution_count": 8,
   "id": "a837e824-ffa6-49e0-91c1-bed30c52f11a",
   "metadata": {},
   "outputs": [
    {
     "name": "stdout",
     "output_type": "stream",
     "text": [
      "The Apple is so tasty\n"
     ]
    }
   ],
   "source": [
    "print(\"The Apple is so tasty\")"
   ]
  },
  {
   "cell_type": "code",
   "execution_count": 9,
   "id": "8faf7da1-14db-43b7-b9e3-465920cff6be",
   "metadata": {},
   "outputs": [
    {
     "name": "stdout",
     "output_type": "stream",
     "text": [
      "Vitamins and Minerals are good for the body\n"
     ]
    }
   ],
   "source": [
    "print(\"Vitamins and Minerals are good for the body\")"
   ]
  },
  {
   "cell_type": "code",
   "execution_count": 10,
   "id": "1a5d1501-f53e-4acc-a46d-d0ea8da1d27f",
   "metadata": {},
   "outputs": [
    {
     "name": "stdout",
     "output_type": "stream",
     "text": [
      "It is day 02 of python class\n"
     ]
    }
   ],
   "source": [
    "print(\"It is day 02 of python class\")"
   ]
  },
  {
   "cell_type": "code",
   "execution_count": 11,
   "id": "99058076-7fab-4256-b74a-31602ac31fd5",
   "metadata": {},
   "outputs": [
    {
     "name": "stdout",
     "output_type": "stream",
     "text": [
      "iam completed my BCA\n"
     ]
    }
   ],
   "source": [
    "print(\"iam completed my BCA\")"
   ]
  },
  {
   "cell_type": "code",
   "execution_count": 12,
   "id": "9bf51b82-15f3-4a9a-ad5a-e12717bbb683",
   "metadata": {},
   "outputs": [
    {
     "name": "stdout",
     "output_type": "stream",
     "text": [
      "Iam a fresher\n"
     ]
    }
   ],
   "source": [
    "print(\"Iam a fresher\")"
   ]
  },
  {
   "cell_type": "code",
   "execution_count": null,
   "id": "a886a4c0-020d-415c-a171-da3cf350f596",
   "metadata": {},
   "outputs": [],
   "source": []
  }
 ],
 "metadata": {
  "kernelspec": {
   "display_name": "Python 3 (ipykernel)",
   "language": "python",
   "name": "python3"
  },
  "language_info": {
   "codemirror_mode": {
    "name": "ipython",
    "version": 3
   },
   "file_extension": ".py",
   "mimetype": "text/x-python",
   "name": "python",
   "nbconvert_exporter": "python",
   "pygments_lexer": "ipython3",
   "version": "3.12.7"
  }
 },
 "nbformat": 4,
 "nbformat_minor": 5
}
