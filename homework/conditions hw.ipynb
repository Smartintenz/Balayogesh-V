{
 "cells": [
  {
   "cell_type": "code",
   "execution_count": 22,
   "id": "25136de2-ff1d-40b9-a703-69787659f63f",
   "metadata": {},
   "outputs": [
    {
     "name": "stdin",
     "output_type": "stream",
     "text": [
      "please enter ur marks 25\n"
     ]
    },
    {
     "name": "stdout",
     "output_type": "stream",
     "text": [
      "pass\n"
     ]
    }
   ],
   "source": [
    "#conditions \n",
    "mark=int(input(\"please enter ur marks\"))\n",
    "a=100\n",
    "b=90 \n",
    "c=80 \n",
    "d=70  \n",
    "if mark>90:\n",
    "   print(\"Grade a\")\n",
    "elif mark>80:\n",
    "    print(\"Grade b\")\n",
    "elif mark>70:\n",
    "    print(\"Grade c\")\n",
    "elif mark>60:\n",
    "    print(\"Grade d\")\n",
    "else:\n",
    "     print(\"pass\")\n",
    "    "
   ]
  },
  {
   "cell_type": "code",
   "execution_count": null,
   "id": "37edca87-6ee2-4dd1-a8ec-f492d9d07a47",
   "metadata": {},
   "outputs": [],
   "source": []
  },
  {
   "cell_type": "code",
   "execution_count": null,
   "id": "453a3db3-37ca-4acc-b532-8e9be2783332",
   "metadata": {},
   "outputs": [],
   "source": []
  }
 ],
 "metadata": {
  "kernelspec": {
   "display_name": "Python 3 (ipykernel)",
   "language": "python",
   "name": "python3"
  },
  "language_info": {
   "codemirror_mode": {
    "name": "ipython",
    "version": 3
   },
   "file_extension": ".py",
   "mimetype": "text/x-python",
   "name": "python",
   "nbconvert_exporter": "python",
   "pygments_lexer": "ipython3",
   "version": "3.12.7"
  }
 },
 "nbformat": 4,
 "nbformat_minor": 5
}
